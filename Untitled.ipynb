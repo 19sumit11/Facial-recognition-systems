{
 "cells": [
  {
   "cell_type": "code",
   "execution_count": 4,
   "id": "18a4e8f6",
   "metadata": {},
   "outputs": [
    {
     "name": "stdout",
     "output_type": "stream",
     "text": [
      "Collecting faceNote: you may need to restart the kernel to use updated packages.\n",
      "\n",
      "  Downloading face-22.0.0-py3-none-any.whl (54 kB)\n"
     ]
    },
    {
     "name": "stderr",
     "output_type": "stream",
     "text": [
      "ERROR: Could not find a version that satisfies the requirement recognition (from versions: none)\n",
      "ERROR: No matching distribution found for recognition\n"
     ]
    }
   ],
   "source": [
    "pip install face recognition"
   ]
  },
  {
   "cell_type": "code",
   "execution_count": null,
   "id": "d0f44244",
   "metadata": {},
   "outputs": [],
   "source": []
  }
 ],
 "metadata": {
  "kernelspec": {
   "display_name": "Python 3 (ipykernel)",
   "language": "python",
   "name": "python3"
  },
  "language_info": {
   "codemirror_mode": {
    "name": "ipython",
    "version": 3
   },
   "file_extension": ".py",
   "mimetype": "text/x-python",
   "name": "python",
   "nbconvert_exporter": "python",
   "pygments_lexer": "ipython3",
   "version": "3.9.12"
  }
 },
 "nbformat": 4,
 "nbformat_minor": 5
}
